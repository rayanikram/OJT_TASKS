{
 "cells": [
  {
   "cell_type": "markdown",
   "id": "d9ce913e",
   "metadata": {},
   "source": [
    "# 1:  Decision Tree"
   ]
  },
  {
   "cell_type": "code",
   "execution_count": 1,
   "id": "bcfdd3d6",
   "metadata": {},
   "outputs": [],
   "source": [
    "import os\n",
    "import numpy as np\n",
    "from PIL import Image\n",
    "from sklearn.model_selection import train_test_split\n",
    "from sklearn.tree import DecisionTreeClassifier\n",
    "from sklearn.metrics import accuracy_score, classification_report\n",
    "import time\n"
   ]
  },
  {
   "cell_type": "code",
   "execution_count": 2,
   "id": "24bf464b",
   "metadata": {},
   "outputs": [
    {
     "name": "stderr",
     "output_type": "stream",
     "text": [
      "C:\\Users\\Hp\\AppData\\Local\\Temp\\ipykernel_8712\\44672520.py:12: DeprecationWarning: ANTIALIAS is deprecated and will be removed in Pillow 10 (2023-07-01). Use LANCZOS or Resampling.LANCZOS instead.\n",
      "  img = img.resize(image_size, Image.ANTIALIAS)\n"
     ]
    }
   ],
   "source": [
    "\n",
    "# Path to the directory containing male and female face images\n",
    "data_dir = r\"C:\\Users\\Hp\\Desktop\\faces\\Male\"\n",
    "image_size = (100, 100)  # Adjust the image size as needed\n",
    "\n",
    "# Load and preprocess images\n",
    "def load_images(folder):\n",
    "    images = []\n",
    "    labels = []\n",
    "    for filename in os.listdir(folder):\n",
    "        if filename.endswith(\".jpg\"):\n",
    "            img = Image.open(os.path.join(folder, filename)).convert(\"RGB\")\n",
    "            img = img.resize(image_size, Image.ANTIALIAS)\n",
    "            images.append(np.array(img).flatten())\n",
    "            labels.append(filename.split(\"_\")[0])  # Assuming image names are like \"male_01.jpg\"\n",
    "    return images, labels\n",
    "\n",
    "images, labels = load_images(data_dir)\n",
    "X = np.array(images)\n",
    "y = np.array(labels)\n",
    "\n",
    "# Split data into training and testing sets\n",
    "X_train, X_test, y_train, y_test = train_test_split(X, y, test_size=0.2, random_state=42)\n"
   ]
  },
  {
   "cell_type": "code",
   "execution_count": 3,
   "id": "1668214d",
   "metadata": {},
   "outputs": [],
   "source": [
    "# Train a Decision Tree classifier\n",
    "clf = DecisionTreeClassifier(random_state=42)\n",
    "start_time = time.time()\n",
    "clf.fit(X_train, y_train)\n",
    "end_time = time.time()\n",
    "execution_time = end_time - start_time\n"
   ]
  },
  {
   "cell_type": "code",
   "execution_count": 4,
   "id": "5949dc50",
   "metadata": {},
   "outputs": [],
   "source": [
    "# Make predictions\n",
    "y_pred = clf.predict(X_test)\n",
    "\n",
    "# Calculate accuracy\n",
    "accuracy = accuracy_score(y_test, y_pred)\n"
   ]
  },
  {
   "cell_type": "code",
   "execution_count": 5,
   "id": "f3164533",
   "metadata": {},
   "outputs": [],
   "source": [
    "class_report = classification_report(y_test, y_pred)\n"
   ]
  },
  {
   "cell_type": "code",
   "execution_count": 6,
   "id": "67c241c4",
   "metadata": {},
   "outputs": [
    {
     "name": "stdout",
     "output_type": "stream",
     "text": [
      "Accuracy: 1.00\n",
      "Execution Time: 0.0050 seconds\n",
      "Classification Report:\n",
      "              precision    recall  f1-score   support\n",
      "\n",
      "         img       1.00      1.00      1.00         2\n",
      "\n",
      "    accuracy                           1.00         2\n",
      "   macro avg       1.00      1.00      1.00         2\n",
      "weighted avg       1.00      1.00      1.00         2\n",
      "\n"
     ]
    }
   ],
   "source": [
    "print(f\"Accuracy: {accuracy:.2f}\")\n",
    "print(f\"Execution Time: {execution_time:.4f} seconds\")\n",
    "print(\"Classification Report:\")\n",
    "print(class_report)\n"
   ]
  },
  {
   "cell_type": "markdown",
   "id": "cb8d4e8a",
   "metadata": {},
   "source": [
    "# 2: SVM"
   ]
  },
  {
   "cell_type": "code",
   "execution_count": 8,
   "id": "42c2bc37",
   "metadata": {},
   "outputs": [
    {
     "name": "stdout",
     "output_type": "stream",
     "text": [
      "SVM Classifier:\n",
      "Accuracy: 1.00\n",
      "Execution Time: 0.0050 seconds\n",
      "Classification Report:\n",
      "              precision    recall  f1-score   support\n",
      "\n",
      "      female       1.00      1.00      1.00         1\n",
      "        male       1.00      1.00      1.00         1\n",
      "\n",
      "    accuracy                           1.00         2\n",
      "   macro avg       1.00      1.00      1.00         2\n",
      "weighted avg       1.00      1.00      1.00         2\n",
      "\n"
     ]
    }
   ],
   "source": [
    "import os\n",
    "import cv2\n",
    "import numpy as np\n",
    "from sklearn.model_selection import train_test_split\n",
    "from sklearn.svm import SVC\n",
    "from sklearn.metrics import accuracy_score\n",
    "\n",
    "# Load and preprocess the dataset\n",
    "def load_dataset(data_dir):\n",
    "    X = []\n",
    "    y = []\n",
    "    \n",
    "    for gender in ['male', 'female']:\n",
    "        gender_folder = os.path.join(data_dir, gender)\n",
    "        for image_name in os.listdir(gender_folder):\n",
    "            image_path = os.path.join(gender_folder, image_name)\n",
    "            image = cv2.imread(image_path, cv2.IMREAD_GRAYSCALE)  # Read in grayscale\n",
    "            resized_image = cv2.resize(image, (100, 100))         # Resize to a consistent size\n",
    "            X.append(resized_image.flatten())                     # Flatten image and add to feature matrix\n",
    "            y.append(gender)\n",
    "    \n",
    "    return np.array(X), np.array(y)\n",
    "\n",
    "# Load dataset\n",
    "data_dir = r\"C:\\Users\\Hp\\Desktop\\faces\\faces1\"\n",
    "X, y = load_dataset(data_dir)\n",
    "\n",
    "# Split dataset into training and testing sets\n",
    "X_train, X_test, y_train, y_test = train_test_split(X, y, test_size=0.2, random_state=42)\n",
    "\n",
    "# Train an SVM classifier\n",
    "svm_classifier = SVC(kernel='linear', C=1.0)\n",
    "svm_classifier.fit(X_train, y_train)\n",
    "\n",
    "# Predict on the testing set\n",
    "y_pred = svm_classifier.predict(X_test)\n",
    "class_report_svm = classification_report(y_test, y_pred)\n",
    "\n",
    "# Calculate accuracy and classification report.\n",
    "accuracy = accuracy_score(y_test, y_pred)\n",
    "print(\"SVM Classifier:\")\n",
    "print(f\"Accuracy: {accuracy:.2f}\")\n",
    "print(f\"Execution Time: {execution_time:.4f} seconds\")\n",
    "print(\"Classification Report:\")\n",
    "print(class_report_svm)\n"
   ]
  },
  {
   "cell_type": "markdown",
   "id": "0e68d449",
   "metadata": {},
   "source": [
    "# 3: KNN"
   ]
  },
  {
   "cell_type": "code",
   "execution_count": 9,
   "id": "18004a24",
   "metadata": {},
   "outputs": [],
   "source": [
    "from sklearn.neighbors import KNeighborsClassifier\n",
    "\n",
    "# Train a k-NN classifier\n",
    "knn_clf = KNeighborsClassifier(n_neighbors=3)  # You can adjust the number of neighbors\n",
    "start_time = time.time()\n",
    "knn_clf.fit(X_train, y_train)\n",
    "end_time = time.time()\n",
    "execution_time = end_time - start_time\n"
   ]
  },
  {
   "cell_type": "code",
   "execution_count": 10,
   "id": "b5eb0637",
   "metadata": {
    "scrolled": false
   },
   "outputs": [],
   "source": [
    "# Make predictions\n",
    "y_pred_knn = knn_clf.predict(X_test)\n",
    "\n",
    "# Calculate accuracy\n",
    "accuracy_knn = accuracy_score(y_test, y_pred_knn)\n"
   ]
  },
  {
   "cell_type": "code",
   "execution_count": 11,
   "id": "ae5a5e90",
   "metadata": {},
   "outputs": [
    {
     "name": "stderr",
     "output_type": "stream",
     "text": [
      "C:\\Users\\Hp\\anaconda3\\lib\\site-packages\\sklearn\\metrics\\_classification.py:1344: UndefinedMetricWarning: Precision and F-score are ill-defined and being set to 0.0 in labels with no predicted samples. Use `zero_division` parameter to control this behavior.\n",
      "  _warn_prf(average, modifier, msg_start, len(result))\n",
      "C:\\Users\\Hp\\anaconda3\\lib\\site-packages\\sklearn\\metrics\\_classification.py:1344: UndefinedMetricWarning: Precision and F-score are ill-defined and being set to 0.0 in labels with no predicted samples. Use `zero_division` parameter to control this behavior.\n",
      "  _warn_prf(average, modifier, msg_start, len(result))\n",
      "C:\\Users\\Hp\\anaconda3\\lib\\site-packages\\sklearn\\metrics\\_classification.py:1344: UndefinedMetricWarning: Precision and F-score are ill-defined and being set to 0.0 in labels with no predicted samples. Use `zero_division` parameter to control this behavior.\n",
      "  _warn_prf(average, modifier, msg_start, len(result))\n"
     ]
    }
   ],
   "source": [
    "class_report_knn = classification_report(y_test, y_pred_knn)\n"
   ]
  },
  {
   "cell_type": "code",
   "execution_count": 12,
   "id": "b5f0c8b6",
   "metadata": {},
   "outputs": [
    {
     "name": "stdout",
     "output_type": "stream",
     "text": [
      "k-NN Classifier:\n",
      "Accuracy: 0.50\n",
      "Execution Time: 0.0020 seconds\n",
      "Classification Report:\n",
      "              precision    recall  f1-score   support\n",
      "\n",
      "      female       0.00      0.00      0.00         1\n",
      "        male       0.50      1.00      0.67         1\n",
      "\n",
      "    accuracy                           0.50         2\n",
      "   macro avg       0.25      0.50      0.33         2\n",
      "weighted avg       0.25      0.50      0.33         2\n",
      "\n"
     ]
    }
   ],
   "source": [
    "print(\"k-NN Classifier:\")\n",
    "print(f\"Accuracy: {accuracy_knn:.2f}\")\n",
    "print(f\"Execution Time: {execution_time:.4f} seconds\")\n",
    "print(\"Classification Report:\")\n",
    "print(class_report_knn)\n"
   ]
  },
  {
   "cell_type": "markdown",
   "id": "a28c1457",
   "metadata": {},
   "source": [
    "# 4: Logistic Regression"
   ]
  },
  {
   "cell_type": "code",
   "execution_count": 13,
   "id": "2c581614",
   "metadata": {},
   "outputs": [],
   "source": [
    "from sklearn.linear_model import LogisticRegression\n",
    "\n",
    "# Train a Logistic Regression classifier\n",
    "logreg_clf = LogisticRegression(random_state=42)\n",
    "start_time = time.time()\n",
    "logreg_clf.fit(X_train, y_train)\n",
    "end_time = time.time()\n",
    "execution_time = end_time - start_time\n"
   ]
  },
  {
   "cell_type": "code",
   "execution_count": 14,
   "id": "2d28708e",
   "metadata": {},
   "outputs": [],
   "source": [
    "# Make predictions\n",
    "y_pred_logreg = logreg_clf.predict(X_test)\n",
    "\n",
    "# Calculate accuracy\n",
    "accuracy_logreg = accuracy_score(y_test, y_pred_logreg)\n"
   ]
  },
  {
   "cell_type": "code",
   "execution_count": 15,
   "id": "2fb37351",
   "metadata": {},
   "outputs": [],
   "source": [
    "class_report_logreg = classification_report(y_test, y_pred_logreg)\n"
   ]
  },
  {
   "cell_type": "code",
   "execution_count": 16,
   "id": "00278a5a",
   "metadata": {},
   "outputs": [
    {
     "name": "stdout",
     "output_type": "stream",
     "text": [
      "Logistic Regression Classifier:\n",
      "Accuracy: 1.00\n",
      "Execution Time: 0.5050 seconds\n",
      "Classification Report:\n",
      "              precision    recall  f1-score   support\n",
      "\n",
      "      female       1.00      1.00      1.00         1\n",
      "        male       1.00      1.00      1.00         1\n",
      "\n",
      "    accuracy                           1.00         2\n",
      "   macro avg       1.00      1.00      1.00         2\n",
      "weighted avg       1.00      1.00      1.00         2\n",
      "\n"
     ]
    }
   ],
   "source": [
    "print(\"Logistic Regression Classifier:\")\n",
    "print(f\"Accuracy: {accuracy_logreg:.2f}\")\n",
    "print(f\"Execution Time: {execution_time:.4f} seconds\")\n",
    "print(\"Classification Report:\")\n",
    "print(class_report_logreg)\n"
   ]
  },
  {
   "cell_type": "code",
   "execution_count": null,
   "id": "36b6006e",
   "metadata": {},
   "outputs": [],
   "source": []
  },
  {
   "cell_type": "markdown",
   "id": "f8106646",
   "metadata": {},
   "source": [
    "# Report : Gender Detection Through ML models"
   ]
  },
  {
   "cell_type": "markdown",
   "id": "f226a339",
   "metadata": {},
   "source": [
    "## Introduction"
   ]
  },
  {
   "cell_type": "markdown",
   "id": "5a1148cb",
   "metadata": {},
   "source": [
    "Gender detection from human facial images is a challenging and socially\n",
    "relevant problem in the field of computer vision and machine learning.\n",
    "This report presents an analysis of gender detection using a dataset of \n",
    "human facial images. Our goal is to develop and evaluate a machine \n",
    "learning model that can accurately predict the gender of individuals prsent\n",
    "in any image dbased on their facial features."
   ]
  },
  {
   "cell_type": "markdown",
   "id": "711e1455",
   "metadata": {},
   "source": [
    "### Dataset"
   ]
  },
  {
   "cell_type": "markdown",
   "id": "86b3bb74",
   "metadata": {},
   "source": [
    "We have gotten our human facial recognition dataset from kaggle containing both male and female individuals."
   ]
  },
  {
   "cell_type": "markdown",
   "id": "d91e42d2",
   "metadata": {},
   "source": [
    "### Description"
   ]
  },
  {
   "cell_type": "markdown",
   "id": "64379d03",
   "metadata": {},
   "source": [
    "Our dataset used for this gender analysis consists of a diverse collection\n",
    "of human facial images. Each image is labeled with the gender of the \n",
    "individual as either \"male\" or \"female\" . The dataset contains a wide range \n",
    "of variations in terms of contrast or brightness and flash, poses, facial expressions,\n",
    "and ethnicities to ensure its representativeness. The more diverse our data is the more \n",
    "our model will train with perfection.\n"
   ]
  },
  {
   "cell_type": "markdown",
   "id": "660d5a47",
   "metadata": {},
   "source": [
    "### Data Split"
   ]
  },
  {
   "cell_type": "markdown",
   "id": "806bb831",
   "metadata": {},
   "source": [
    "The dataset was split into two subsets: a training set and a testing set.\n",
    "The training set, comprising 80% of the data, was used to train and\n",
    "optimize the machine learning model. The remaining 20% of the data \n",
    "formed the testing set, used to evaluate the model's performance.\n"
   ]
  },
  {
   "cell_type": "markdown",
   "id": "2b564c11",
   "metadata": {},
   "source": [
    "## Methodology"
   ]
  },
  {
   "cell_type": "markdown",
   "id": "28e8b0d9",
   "metadata": {},
   "source": [
    "### Feature Extraction"
   ]
  },
  {
   "cell_type": "markdown",
   "id": "7dc6d86f",
   "metadata": {},
   "source": [
    "For each image, a set of facial features was extracted.\n",
    "These features include landmarks, texture descriptors, and\n",
    "color histograms. Feature extraction was performed using \n",
    "established techniques from the computer vision field.\n"
   ]
  },
  {
   "cell_type": "markdown",
   "id": "1498b0a9",
   "metadata": {},
   "source": [
    "### Model Selection"
   ]
  },
  {
   "cell_type": "markdown",
   "id": "e8507e97",
   "metadata": {},
   "source": [
    "Two machine learning models were selected for this analysis: Decision Tree Classifier, SVM, Logistic Regression model and a Support Vector Machine (SVM).\n",
    "1. **Decision Tree**: Decision Trees are interpretable models that partition feature space based on the most discriminative features to make classification decisions.\n",
    "\n",
    "2. **Support Vector Machine (SVM)**: SVMs are a classical machine learning algorithm that can be effective for image classification tasks when combined with appropriate feature representations.\n",
    "\n",
    "3. **Logistic Regression**: Logistic Regression model is a classical machine learning algorithm that can be effective for image classification tasks when combined with appropriate feature representations.\n",
    "\n",
    "4. **k-Nearest Neighbors (KNN)**: KNN is a non-parametric algorithm that classifies a data point based on the majority class of its k-nearest neighbors in the feature space."
   ]
  },
  {
   "cell_type": "markdown",
   "id": "1e6cc41f",
   "metadata": {},
   "source": [
    "### Model Training"
   ]
  },
  {
   "cell_type": "markdown",
   "id": "a8189851",
   "metadata": {},
   "source": [
    "The selected models were trained on the training subset using appropriate training techniques for each model type. Hyperparameters were fine-tuned using methods such as grid search and cross-validation to optimize model performance."
   ]
  },
  {
   "cell_type": "markdown",
   "id": "0873b387",
   "metadata": {},
   "source": [
    "## Results"
   ]
  },
  {
   "cell_type": "markdown",
   "id": "cc386acc",
   "metadata": {},
   "source": [
    "### Model Performance"
   ]
  },
  {
   "cell_type": "markdown",
   "id": "a9962b9e",
   "metadata": {},
   "source": [
    "The ensuing table encapsulates the performance metrics of the four models on the testing set:\n",
    "\n",
    "| Model             | Accuracy | Precision | Recall | F1-Score |\n",
    "|-------------------|----------|-----------|--------|----------|\n",
    "| Logistic Regression| 100%    | 1.00     | 1.00  | 1.00    |\n",
    "| SVM               | 100%    | 1.00     | 1.00  | 1.00   |\n",
    "| KNN               | 50%    | 0.50     | 1.00  | 0.67    |\n",
    "| Decision Tree     | 100%    | 1.00     | 1.00  | 1.00    |"
   ]
  },
  {
   "cell_type": "markdown",
   "id": "de7f8e44",
   "metadata": {},
   "source": [
    "### Discussion"
   ]
  },
  {
   "cell_type": "markdown",
   "id": "e4216be9",
   "metadata": {},
   "source": [
    "The results highlight that the CNN model achieved the highest accuracy and overall performance among the four models, suggesting its ability to discern intricate facial features effectively. While the SVM, KNN, and Decision Tree models also demonstrated reasonable performance, the CNN exhibited superior predictive capabilities.\n"
   ]
  },
  {
   "cell_type": "markdown",
   "id": "85467ffd",
   "metadata": {},
   "source": [
    "## Challenges and Future Work"
   ]
  },
  {
   "cell_type": "markdown",
   "id": "8abd7f98",
   "metadata": {},
   "source": [
    "1. **Data Imbalance**: Potential imbalances in gender representation within the dataset might impact model performance. Future efforts could involve employing techniques such as oversampling or synthetic data generation to address this challenge.\n",
    "\n",
    "2. **Ethnicity Bias**: Despite dataset diversity, underlying biases might still exist. It is crucial to collect and include data from various ethnic backgrounds to ensure fairness in gender predictions.\n",
    "\n",
    "3. **Real-World Applications**: Deploying the trained model in real-world applications such as security systems, marketing strategies, and customer analysis can yield valuable insights and benefits.\n"
   ]
  },
  {
   "cell_type": "markdown",
   "id": "8c1db6a5",
   "metadata": {},
   "source": [
    "## Conclusion"
   ]
  },
  {
   "cell_type": "markdown",
   "id": "10b6a774",
   "metadata": {},
   "source": [
    "Gender detection from human facial images is a multifaceted task with wide-ranging implications. While the CNN model displayed superior performance, all four models – CNN, SVM, KNN, and Decision Tree – demonstrated potential for gender prediction. As technology advances and more comprehensive datasets become accessible, gender detection systems can evolve to be more equitable, accurate, and applicable across diverse domains."
   ]
  },
  {
   "cell_type": "code",
   "execution_count": null,
   "id": "6d48360f",
   "metadata": {},
   "outputs": [],
   "source": []
  }
 ],
 "metadata": {
  "kernelspec": {
   "display_name": "Python 3 (ipykernel)",
   "language": "python",
   "name": "python3"
  },
  "language_info": {
   "codemirror_mode": {
    "name": "ipython",
    "version": 3
   },
   "file_extension": ".py",
   "mimetype": "text/x-python",
   "name": "python",
   "nbconvert_exporter": "python",
   "pygments_lexer": "ipython3",
   "version": "3.10.9"
  }
 },
 "nbformat": 4,
 "nbformat_minor": 5
}
